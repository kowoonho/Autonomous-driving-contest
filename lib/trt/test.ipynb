{
 "cells": [
  {
   "cell_type": "code",
   "execution_count": null,
   "metadata": {},
   "outputs": [],
   "source": [
    "import cv2\n",
    "from test import Detect_Mark"
   ]
  },
  {
   "cell_type": "code",
   "execution_count": null,
   "metadata": {},
   "outputs": [],
   "source": [
    "image = \"/Users/yunsu/Desktop/대학자료/Autonomous Driving(MIDASL)/code/lib/inputs/sample_720p.jpg\""
   ]
  }
 ],
 "metadata": {
  "kernelspec": {
   "display_name": "ml",
   "language": "python",
   "name": "python3"
  },
  "language_info": {
   "name": "python",
   "version": "3.7.13 (default, Mar 28 2022, 07:24:34) \n[Clang 12.0.0 ]"
  },
  "orig_nbformat": 4,
  "vscode": {
   "interpreter": {
    "hash": "4b53a73392c5f8f1f6487298a1bef1bc1a5db0754328a847550455f6228573af"
   }
  }
 },
 "nbformat": 4,
 "nbformat_minor": 2
}

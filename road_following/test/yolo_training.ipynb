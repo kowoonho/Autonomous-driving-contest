{
 "cells": [
  {
   "cell_type": "code",
   "execution_count": 1,
   "metadata": {},
   "outputs": [
    {
     "name": "stdout",
     "output_type": "stream",
     "text": [
      "\u001b[34m\u001b[1mtrain: \u001b[0mweights=yolov5/yolov5s.pt, cfg=yolov5/models/yolov5s.yaml, data=/home/skkcar/Desktop/contest/1st-AD-SW-Competition_0114/road_following/yolo_detection_dataset/data.yaml, hyp=yolov5/data/hyps/hyp.scratch-low.yaml, epochs=30, batch_size=16, imgsz=640, rect=False, resume=False, nosave=False, noval=False, noautoanchor=False, noplots=False, evolve=None, bucket=, cache=None, image_weights=False, device=, multi_scale=False, single_cls=False, optimizer=SGD, sync_bn=False, workers=8, project=yolov5/runs/train, name=detection_result, exist_ok=False, quad=False, cos_lr=False, label_smoothing=0.0, patience=100, freeze=[0], save_period=-1, seed=0, local_rank=-1, entity=None, upload_dataset=False, bbox_interval=-1, artifact_alias=latest\n",
      "\u001b[34m\u001b[1mgithub: \u001b[0mskipping check (not a git repository), for updates see https://github.com/ultralytics/yolov5\n",
      "YOLOv5 🚀 2023-1-15 Python-3.10.6 torch-1.13.1+cu117 CUDA:0 (NVIDIA GeForce RTX 3080 Ti Laptop GPU, 16125MiB)\n",
      "\n",
      "\u001b[34m\u001b[1mhyperparameters: \u001b[0mlr0=0.01, lrf=0.01, momentum=0.937, weight_decay=0.0005, warmup_epochs=3.0, warmup_momentum=0.8, warmup_bias_lr=0.1, box=0.05, cls=0.5, cls_pw=1.0, obj=1.0, obj_pw=1.0, iou_t=0.2, anchor_t=4.0, fl_gamma=0.0, hsv_h=0.015, hsv_s=0.7, hsv_v=0.4, degrees=0.0, translate=0.1, scale=0.5, shear=0.0, perspective=0.0, flipud=0.0, fliplr=0.5, mosaic=1.0, mixup=0.0, copy_paste=0.0\n",
      "\u001b[34m\u001b[1mComet: \u001b[0mrun 'pip install comet_ml' to automatically track and visualize YOLOv5 🚀 runs in Comet\n",
      "\u001b[34m\u001b[1mTensorBoard: \u001b[0mStart with 'tensorboard --logdir yolov5/runs/train', view at http://localhost:6006/\n",
      "\u001b[34m\u001b[1mClearML: \u001b[0mWARNING ⚠️ ClearML is installed but not configured, skipping ClearML logging. See https://github.com/ultralytics/yolov5/tree/master/utils/loggers/clearml#readme\n",
      "\n",
      "Dataset not found ⚠️, missing paths ['/home/skkcar/Desktop/contest/1st-AD-SW-Competition_0114/road_following/yolov5/yolo_detection_dataset/val.txt']\n",
      "Traceback (most recent call last):\n",
      "  File \"/home/skkcar/Desktop/contest/1st-AD-SW-Competition_0114/road_following/yolov5/train.py\", line 634, in <module>\n",
      "    main(opt)\n",
      "  File \"/home/skkcar/Desktop/contest/1st-AD-SW-Competition_0114/road_following/yolov5/train.py\", line 528, in main\n",
      "    train(opt.hyp, opt, device, callbacks)\n",
      "  File \"/home/skkcar/Desktop/contest/1st-AD-SW-Competition_0114/road_following/yolov5/train.py\", line 111, in train\n",
      "    data_dict = data_dict or check_dataset(data)  # check if None\n",
      "  File \"/home/skkcar/Desktop/contest/1st-AD-SW-Competition_0114/road_following/yolov5/utils/general.py\", line 542, in check_dataset\n",
      "    raise Exception('Dataset not found ❌')\n",
      "Exception: Dataset not found ❌\n"
     ]
    }
   ],
   "source": [
    "!python3 yolov5/train.py --weights yolov5/yolov5s.pt --cfg yolov5/models/yolov5s.yaml --data /home/skkcar/Desktop/contest/1st-AD-SW-Competition_0114/road_following/yolo_detection_dataset/data.yaml --epochs 30 --batch-size 16 --name detection_result --img 640"
   ]
  }
 ],
 "metadata": {
  "kernelspec": {
   "display_name": "Python 3",
   "language": "python",
   "name": "python3"
  },
  "language_info": {
   "codemirror_mode": {
    "name": "ipython",
    "version": 3
   },
   "file_extension": ".py",
   "mimetype": "text/x-python",
   "name": "python",
   "nbconvert_exporter": "python",
   "pygments_lexer": "ipython3",
   "version": "3.10.6"
  },
  "orig_nbformat": 4,
  "vscode": {
   "interpreter": {
    "hash": "916dbcbb3f70747c44a77c7bcd40155683ae19c65e1c03b4aa3499c5328201f1"
   }
  }
 },
 "nbformat": 4,
 "nbformat_minor": 2
}

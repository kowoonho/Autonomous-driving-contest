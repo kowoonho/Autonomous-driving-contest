{
 "cells": [
  {
   "cell_type": "code",
   "execution_count": 12,
   "metadata": {},
   "outputs": [],
   "source": [
    "import cv2\n",
    "import sys\n",
    "import os\n",
    "import matplotlib.pyplot as plt\n",
    "sys.path.append(os.path.dirname(os.getcwd()))\n",
    "from Algorithm.img_preprocess import cvt_binary, total_function\n",
    "from utility import *\n",
    "from Algorithm.Control import *\n"
   ]
  },
  {
   "cell_type": "code",
   "execution_count": 13,
   "metadata": {},
   "outputs": [],
   "source": [
    "img = cv2.imread(\"image_1.png\")\n",
    "img = total_function(img, day_evening=180)\n",
    "img =cvt_binary(img)\n",
    "roi_img = roi_cutting(img)"
   ]
  },
  {
   "cell_type": "code",
   "execution_count": 18,
   "metadata": {},
   "outputs": [
    {
     "data": {
      "image/png": "[encoded data removed]",
      "text/plain": [
       "<Figure size 640x480 with 1 Axes>"
      ]
     },
     "metadata": {},
     "output_type": "display_data"
    },
    {
     "name": "stdout",
     "output_type": "stream",
     "text": [
      "Dominant_gradient :  0.0\n",
      "center point :  281.5\n",
      "Steering Direction :  0\n"
     ]
    }
   ],
   "source": [
    "plt.imshow(roi_img, 'gray')\n",
    "plt.show()\n",
    "gradient, bottom_value = dominant_gradient(roi_img)\n",
    "print(\"Dominant_gradient : \", gradient)\n",
    "l_idx, r_idx = find_nearest(bottom_value)\n",
    "\n",
    "center_point = (l_idx + r_idx)/2\n",
    "\n",
    "print(\"center point : \", center_point)\n",
    "road_direction = return_road_direction(gradient)\n",
    "final_direction = strengthen_control(road_direction, gradient, bottom_value)\n",
    "print(\"Steering Direction : \", final_direction)"
   ]
  },
  {
   "cell_type": "code",
   "execution_count": null,
   "metadata": {},
   "outputs": [],
   "source": []
  }
 ],
 "metadata": {
  "kernelspec": {
   "display_name": "ml",
   "language": "python",
   "name": "python3"
  },
  "language_info": {
   "codemirror_mode": {
    "name": "ipython",
    "version": 3
   },
   "file_extension": ".py",
   "mimetype": "text/x-python",
   "name": "python",
   "nbconvert_exporter": "python",
   "pygments_lexer": "ipython3",
   "version": "3.7.13"
  },
  "orig_nbformat": 4,
  "vscode": {
   "interpreter": {
    "hash": "4b53a73392c5f8f1f6487298a1bef1bc1a5db0754328a847550455f6228573af"
   }
  }
 },
 "nbformat": 4,
 "nbformat_minor": 2
}

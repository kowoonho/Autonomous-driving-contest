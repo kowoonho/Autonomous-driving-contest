{
 "cells": [
  {
   "cell_type": "code",
   "execution_count": 12,
   "metadata": {},
   "outputs": [],
   "source": [
    "import os\n",
    "import matplotlib.pyplot as plt\n",
    "from glob import glob\n",
    "import cv2\n"
   ]
  },
  {
   "cell_type": "code",
   "execution_count": 51,
   "metadata": {},
   "outputs": [],
   "source": [
    "exception_path = \"/hdd/woonho/autonomous_driving/rfdata/exception/\"\n",
    "new_data_path = \"/home/woonho/python/1st-AD-SW-Competition/road_following/exception_img/\"\n",
    "basic_img_list = glob(exception_path + \"f_bird--basic*.png\")\n",
    "img_idx = 0"
   ]
  },
  {
   "cell_type": "code",
   "execution_count": 52,
   "metadata": {},
   "outputs": [],
   "source": [
    "for img_idx in range(0, 51):\n",
    "    basic_img_name = basic_img_list[img_idx*10]\n",
    "    preprocess_img_name = basic_img_name[:56] + \"preprocess\" + basic_img_name[61:]\n",
    "    binary_img_name = basic_img_name[:56] + \"binary\" + basic_img_name[61:]\n",
    "\n",
    "    basic_img = cv2.imread(basic_img_name)\n",
    "    preprocess_img = cv2.imread(preprocess_img_name)\n",
    "    binary_img = cv2.imread(binary_img_name)\n",
    "\n",
    "    cv2.imwrite(new_data_path + \"exception_basic_{}.png\".format(img_idx), basic_img)\n",
    "    cv2.imwrite(new_data_path + \"exception_preprocess_{}.png\".format(img_idx), preprocess_img)\n",
    "    cv2.imwrite(new_data_path + \"exception_binary_{}.png\".format(img_idx), binary_img)"
   ]
  },
  {
   "cell_type": "code",
   "execution_count": null,
   "metadata": {},
   "outputs": [],
   "source": []
  }
 ],
 "metadata": {
  "kernelspec": {
   "display_name": "cv",
   "language": "python",
   "name": "python3"
  },
  "language_info": {
   "codemirror_mode": {
    "name": "ipython",
    "version": 3
   },
   "file_extension": ".py",
   "mimetype": "text/x-python",
   "name": "python",
   "nbconvert_exporter": "python",
   "pygments_lexer": "ipython3",
   "version": "3.8.13 (default, Mar 28 2022, 11:38:47) \n[GCC 7.5.0]"
  },
  "orig_nbformat": 4,
  "vscode": {
   "interpreter": {
    "hash": "f1c7e53f870fe209ff244f7ea9dc992735dbe142db32fa97f4677bab9b86d456"
   }
  }
 },
 "nbformat": 4,
 "nbformat_minor": 2
}
